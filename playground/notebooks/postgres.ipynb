{
 "cells": [
  {
   "cell_type": "code",
   "execution_count": 7,
   "metadata": {},
   "outputs": [
    {
     "data": {
      "text/plain": [
       "False"
      ]
     },
     "execution_count": 7,
     "metadata": {},
     "output_type": "execute_result"
    }
   ],
   "source": [
    "from dotenv import load_dotenv\n",
    "import os\n",
    "\n",
    "# Load environment variables\n",
    "ENV_PATH = \"./.env\"\n",
    "load_dotenv(ENV_PATH)"
   ]
  },
  {
   "cell_type": "code",
   "execution_count": 8,
   "metadata": {},
   "outputs": [],
   "source": [
    "import pandas as pd\n",
    "from sqlalchemy import create_engine, text\n",
    "from sqlalchemy.exc import SQLAlchemyError"
   ]
  },
  {
   "cell_type": "code",
   "execution_count": 9,
   "metadata": {},
   "outputs": [],
   "source": [
    "def insert_table_to_pg():\n",
    "    db_host = os.getenv(\"POSTGRES_HOST\",\"localhost\")\n",
    "    db_port = os.getenv(\"POSTGRES_PORT\",\"1200\")\n",
    "    db_user = os.getenv(\"POSTGRES_USER\",\"postgres\")\n",
    "    db_password = os.getenv(\"POSTGRES_PASSWORD\",\"postgres\")\n",
    "    db_database = os.getenv(\"POSTGRES_DATABASE\",\"test\")\n",
    "\n",
    "    # Create a connection to the PostgreSQL database\n",
    "    engine = create_engine(f'postgresql://{db_user}:{db_password}@{db_host}:{db_port}/{db_database}')\n",
    "\n",
    "    try:\n",
    "        with engine.connect() as conn:\n",
    "            # create and insert into order_detail table\n",
    "            df_order_detail = pd.read_csv(\"../sources/order_detail.csv\")\n",
    "            df_order_detail[\"order_created_timestamp\"] = pd.to_datetime(df_order_detail[\"order_created_timestamp\"], format=\"%Y-%m-%d %H:%M:%S\")\n",
    "            print(\"Creating or Inserting order_detail table...\")\n",
    "            df_order_detail.to_sql(\"order_detail\", conn, if_exists=\"replace\", index=False)\n",
    "\n",
    "            # create and insert into restaurant table\n",
    "            df_restaurant = pd.read_csv(\"../sources/restaurant_detail.csv\")\n",
    "            print(\"Creating or Inserting restaurant_detail table...\")\n",
    "            df_restaurant.to_sql(\"restaurant_detail\", conn, if_exists=\"replace\", index=False)\n",
    "    except SQLAlchemyError as e:\n",
    "        print(f\"Error while inserting or creating database: {e}\")\n"
   ]
  },
  {
   "cell_type": "code",
   "execution_count": 14,
   "metadata": {},
   "outputs": [
    {
     "name": "stdout",
     "output_type": "stream",
     "text": [
      "Creating or Inserting order_detail table...\n",
      "Creating or Inserting restaurant_detail table...\n"
     ]
    }
   ],
   "source": [
    "if \"__main__\" == __name__:\n",
    "    insert_table_to_pg()\n",
    "    "
   ]
  },
  {
   "cell_type": "code",
   "execution_count": null,
   "metadata": {},
   "outputs": [],
   "source": []
  }
 ],
 "metadata": {
  "kernelspec": {
   "display_name": "test-env",
   "language": "python",
   "name": "python3"
  },
  "language_info": {
   "codemirror_mode": {
    "name": "ipython",
    "version": 3
   },
   "file_extension": ".py",
   "mimetype": "text/x-python",
   "name": "python",
   "nbconvert_exporter": "python",
   "pygments_lexer": "ipython3",
   "version": "3.11.6"
  }
 },
 "nbformat": 4,
 "nbformat_minor": 2
}
